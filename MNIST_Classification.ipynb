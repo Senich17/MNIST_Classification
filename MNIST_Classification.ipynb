{
  "cells": [
    {
      "cell_type": "markdown",
      "source": [
        "## Сlassification of handwritten digits from the MNIST dataset"
      ],
      "metadata": {
        "id": "XrncjX2TXVGM"
      }
    },
    {
      "cell_type": "code",
      "source": [
        "import numpy as np\n",
        "from sklearn.datasets import load_digits\n",
        "from sklearn.metrics import accuracy_score, precision_score, recall_score, f1_score\n",
        "import matplotlib.pyplot as plt\n",
        "from sklearn.model_selection import train_test_split\n"
      ],
      "metadata": {
        "id": "ZrAYIlaDXAcm"
      },
      "execution_count": 5,
      "outputs": []
    },
    {
      "cell_type": "code",
      "execution_count": 2,
      "metadata": {
        "deletable": false,
        "editable": false,
        "nbgrader": {
          "cell_type": "code",
          "checksum": "5c9ae45022783898a2aea57e451b47eb",
          "grade": false,
          "grade_id": "cell-d9e9033e8e7687c7",
          "locked": true,
          "schema_version": 3,
          "solution": false,
          "task": false
        },
        "id": "TXA0S5mrWtpt"
      },
      "outputs": [],
      "source": [
        "# seed fixation for reproducibility of the results\n",
        "seed = 1\n",
        "np.random.seed(seed)\n"
      ]
    },
    {
      "cell_type": "code",
      "execution_count": 3,
      "metadata": {
        "deletable": false,
        "editable": false,
        "nbgrader": {
          "cell_type": "code",
          "checksum": "3329526413375c3a5ce82d7a8badf554",
          "grade": false,
          "grade_id": "cell-dc48db25ce0a4632",
          "locked": true,
          "schema_version": 3,
          "solution": false,
          "task": false
        },
        "id": "bAEjS5fcWtpv"
      },
      "outputs": [],
      "source": [
        "digits = load_digits()\n",
        "X = digits.data # Images converted from matrix (8, 8) to vector (64,)\n",
        "y = digits.target\n"
      ]
    },
    {
      "cell_type": "code",
      "execution_count": 4,
      "metadata": {
        "deletable": false,
        "editable": false,
        "nbgrader": {
          "cell_type": "code",
          "checksum": "68d6357f48473319a0b66b00bd3d0204",
          "grade": false,
          "grade_id": "cell-e9aa8c506f284875",
          "locked": true,
          "schema_version": 3,
          "solution": false,
          "task": false
        },
        "colab": {
          "base_uri": "https://localhost:8080/",
          "height": 430
        },
        "id": "6ksFMIUIWtpw",
        "outputId": "9e81f04f-50ce-466d-e61d-d18d03bf270f"
      },
      "outputs": [
        {
          "output_type": "display_data",
          "data": {
            "text/plain": [
              "<Figure size 640x480 with 1 Axes>"
            ],
            "image/png": "[encoded data removed]"
          },
          "metadata": {}
        }
      ],
      "source": [
        "# Visualization of first digit\n",
        "plt.imshow(digits.images[0], cmap='gray')\n",
        "plt.show()\n"
      ]
    },
    {
      "cell_type": "markdown",
      "metadata": {
        "deletable": false,
        "editable": false,
        "nbgrader": {
          "cell_type": "markdown",
          "checksum": "892b14072309db9fdc13ffc24d4b60dd",
          "grade": false,
          "grade_id": "cell-72972e0fb60029b1",
          "locked": true,
          "schema_version": 3,
          "solution": false,
          "task": false
        },
        "id": "gS0nEqL0Wtpx"
      },
      "source": [
        "Next - divide the data into training and test samples using the train_test_split function from the sklearn.model_selection module"
      ]
    },
    {
      "cell_type": "code",
      "execution_count": 6,
      "metadata": {
        "deletable": false,
        "editable": false,
        "nbgrader": {
          "cell_type": "code",
          "checksum": "e47fee4b5879a5bb7708cb6a783f99cf",
          "grade": false,
          "grade_id": "cell-7f82013d663dd86f",
          "locked": true,
          "schema_version": 3,
          "solution": false,
          "task": false
        },
        "id": "hhlnjYJwWtpx"
      },
      "outputs": [],
      "source": [
        "X_train, X_test, y_train, y_test = train_test_split(X, y, test_size=0.2, random_state=seed)\n"
      ]
    },
    {
      "cell_type": "markdown",
      "metadata": {
        "deletable": false,
        "editable": false,
        "nbgrader": {
          "cell_type": "markdown",
          "checksum": "f636d9cda74ba71292e14362b63d4278",
          "grade": false,
          "grade_id": "cell-4ae25d5c403491ef",
          "locked": true,
          "schema_version": 3,
          "solution": false,
          "task": false
        },
        "id": "ofLg6d6UWtpx"
      },
      "source": [
        "## Multiclass classification with the Perceptron model using the one-vs-one strategy"
      ]
    },
    {
      "cell_type": "markdown",
      "source": [
        "In the scikit-learn (sklearn) library, i will use the sklearn.linear_model.Perceptron classifier."
      ],
      "metadata": {
        "id": "BMFRYEeZYgUj"
      }
    },
    {
      "cell_type": "markdown",
      "metadata": {
        "deletable": false,
        "editable": false,
        "nbgrader": {
          "cell_type": "markdown",
          "checksum": "8825615ed290c076285c4b7846d97b33",
          "grade": false,
          "grade_id": "cell-17f543820d0f6de6",
          "locked": true,
          "schema_version": 3,
          "solution": false,
          "task": false
        },
        "id": "5svBPyTbWtpy"
      },
      "source": [
        "Create a Perceptron classifier object and set the model parameters. In this case, i use the tol parameter to set the stop criterion (the required accuracy of the solution) and the random_state parameter to set the initial state of the random number generator, which will reproduce the results."
      ]
    },
    {
      "cell_type": "code",
      "execution_count": 7,
      "metadata": {
        "deletable": false,
        "nbgrader": {
          "cell_type": "code",
          "checksum": "1f4928c2612501b2f748e9950c4a952a",
          "grade": false,
          "grade_id": "cell-6773ed1eb8bcf30c",
          "locked": false,
          "schema_version": 3,
          "solution": true,
          "task": false
        },
        "id": "WAyjgFrjWtpy"
      },
      "outputs": [],
      "source": [
        "from sklearn.linear_model import Perceptron\n",
        "\n",
        "clf1 = Perceptron(tol=1e-3, random_state=seed)\n"
      ]
    },
    {
      "cell_type": "code",
      "execution_count": 8,
      "metadata": {
        "deletable": false,
        "editable": false,
        "nbgrader": {
          "cell_type": "code",
          "checksum": "8d75dcf60bfd26b40301ea2cce4c33c7",
          "grade": true,
          "grade_id": "cell-920798c03be6c966",
          "locked": true,
          "points": 1,
          "schema_version": 3,
          "solution": false,
          "task": false
        },
        "id": "u69ktb5TWtpy"
      },
      "outputs": [],
      "source": [
        "assert type(clf1) == Perceptron and clf1.tol == 0.001"
      ]
    },
    {
      "cell_type": "markdown",
      "metadata": {
        "deletable": false,
        "editable": false,
        "nbgrader": {
          "cell_type": "markdown",
          "checksum": "7b21861d1e1ad1842ae444a0bb9b416b",
          "grade": false,
          "grade_id": "cell-49a3fd4678dde907",
          "locked": true,
          "schema_version": 3,
          "solution": false,
          "task": false
        },
        "id": "RaXjSma8Wtpz"
      },
      "source": [
        "Next, i will create an instance of the \"one-vs-one\" strategy class for multiclass classification"
      ]
    },
    {
      "cell_type": "code",
      "execution_count": 9,
      "metadata": {
        "deletable": false,
        "nbgrader": {
          "cell_type": "code",
          "checksum": "01fb21f31d4b302cee59ac475678a949",
          "grade": false,
          "grade_id": "cell-5b9b0797bb931d18",
          "locked": false,
          "schema_version": 3,
          "solution": true,
          "task": false
        },
        "id": "-R25lZjGWtpz"
      },
      "outputs": [],
      "source": [
        "from sklearn.multiclass import OneVsOneClassifier\n",
        "\n",
        "clf1 = OneVsOneClassifier(clf1)\n"
      ]
    },
    {
      "cell_type": "code",
      "execution_count": 10,
      "metadata": {
        "deletable": false,
        "editable": false,
        "nbgrader": {
          "cell_type": "code",
          "checksum": "5802dba9624302b9b11a76d6dfa033a1",
          "grade": true,
          "grade_id": "cell-717c1b50452350e7",
          "locked": true,
          "points": 2,
          "schema_version": 3,
          "solution": false,
          "task": false
        },
        "id": "VimfUQE5Wtpz"
      },
      "outputs": [],
      "source": [
        "assert type(clf1) == OneVsOneClassifier"
      ]
    },
    {
      "cell_type": "markdown",
      "metadata": {
        "deletable": false,
        "editable": false,
        "nbgrader": {
          "cell_type": "markdown",
          "checksum": "7572bffc8a77b7d3cafef6b53dccf6a2",
          "grade": false,
          "grade_id": "cell-f40dd4b30a8ef864",
          "locked": true,
          "schema_version": 3,
          "solution": false,
          "task": false
        },
        "id": "6Fa61sN_Wtpz"
      },
      "source": [
        "Train the model and make predictions on a test sample."
      ]
    },
    {
      "cell_type": "code",
      "execution_count": 11,
      "metadata": {
        "deletable": false,
        "nbgrader": {
          "cell_type": "code",
          "checksum": "d584fc9d449b0e359a628ed56f465fa0",
          "grade": false,
          "grade_id": "cell-ade7c479f9627039",
          "locked": false,
          "schema_version": 3,
          "solution": true,
          "task": false
        },
        "id": "ejl3IHzIWtp0"
      },
      "outputs": [],
      "source": [
        "clf1.fit(X_train, y_train)\n",
        "y_pred1 = clf1.predict(X_test)\n"
      ]
    },
    {
      "cell_type": "markdown",
      "metadata": {
        "deletable": false,
        "editable": false,
        "nbgrader": {
          "cell_type": "markdown",
          "checksum": "2aa9304b6bebd2c67fd8446d56365ad2",
          "grade": false,
          "grade_id": "cell-2936d0dfc7c849b0",
          "locked": true,
          "schema_version": 3,
          "solution": false,
          "task": false
        },
        "id": "0ysFjZpeWtp0"
      },
      "source": [
        "Let's evaluate the classification accuracy using metrics from the sklearn.metrics module.\n"
      ]
    },
    {
      "cell_type": "code",
      "execution_count": 12,
      "metadata": {
        "deletable": false,
        "editable": false,
        "nbgrader": {
          "cell_type": "code",
          "checksum": "220dc7f519392c9b31d2dfd8b9c90d5a",
          "grade": false,
          "grade_id": "cell-caefb1f3ef2e2ebd",
          "locked": true,
          "schema_version": 3,
          "solution": false,
          "task": false
        },
        "colab": {
          "base_uri": "https://localhost:8080/"
        },
        "id": "yQchrLPTWtp0",
        "outputId": "14afd45c-f272-4256-810e-35483e8d192d"
      },
      "outputs": [
        {
          "output_type": "stream",
          "name": "stdout",
          "text": [
            "perceptron_accuracy_score: 0.9666666666666667\n",
            "perceptron_precision_score: 0.9667979978048044\n",
            "perceptron_recall_score: 0.9666647210984209\n",
            "perceptron_f1_score: 0.9658945948627322\n"
          ]
        }
      ],
      "source": [
        "perceptron_accuracy_score = accuracy_score(y_test, y_pred1)\n",
        "perceptron_precision_score = precision_score(y_test, y_pred1, average='macro')\n",
        "perceptron_recall_score = recall_score(y_test, y_pred1, average='macro')\n",
        "perceptron_f1_score = f1_score(y_test, y_pred1, average='macro')\n",
        "\n",
        "# The quality of all metrics should be above 95%\n",
        "\n",
        "print(f\"perceptron_accuracy_score: {perceptron_accuracy_score}\")\n",
        "print(f\"perceptron_precision_score: {perceptron_precision_score}\")\n",
        "print(f\"perceptron_recall_score: {perceptron_recall_score}\")\n",
        "print(f\"perceptron_f1_score: {perceptron_f1_score}\")"
      ]
    },
    {
      "cell_type": "code",
      "execution_count": 13,
      "metadata": {
        "deletable": false,
        "editable": false,
        "nbgrader": {
          "cell_type": "code",
          "checksum": "1453b102ac589dbb8436b9d2455c38f9",
          "grade": true,
          "grade_id": "cell-5c7e2d0107a66ae3",
          "locked": true,
          "points": 1,
          "schema_version": 3,
          "solution": false,
          "task": false
        },
        "id": "z7ZKKMDQWtp1"
      },
      "outputs": [],
      "source": [
        "assert perceptron_accuracy_score > 0.95\n",
        "assert perceptron_precision_score > 0.95\n",
        "assert perceptron_recall_score > 0.95\n",
        "assert perceptron_f1_score > 0.95"
      ]
    },
    {
      "cell_type": "markdown",
      "metadata": {
        "deletable": false,
        "editable": false,
        "nbgrader": {
          "cell_type": "markdown",
          "checksum": "da1cb7289574d4590d87b0658c3c00c2",
          "grade": false,
          "grade_id": "cell-76ef0881e04b0e88",
          "locked": true,
          "schema_version": 3,
          "solution": false,
          "task": false
        },
        "id": "qutLHGYpWtp1"
      },
      "source": [
        "## Multiclass classification with Logistic Regression model with softmax function"
      ]
    },
    {
      "cell_type": "code",
      "execution_count": 14,
      "metadata": {
        "deletable": false,
        "editable": false,
        "nbgrader": {
          "cell_type": "code",
          "checksum": "0a3db88653da5c1019a1bc0ddbf7f68a",
          "grade": false,
          "grade_id": "cell-a1c3b912fe9a6c35",
          "locked": true,
          "schema_version": 3,
          "solution": false,
          "task": false
        },
        "id": "Ab47smQYWtp1"
      },
      "outputs": [],
      "source": [
        "from sklearn.linear_model import LogisticRegression\n"
      ]
    },
    {
      "cell_type": "code",
      "execution_count": 15,
      "metadata": {
        "deletable": false,
        "nbgrader": {
          "cell_type": "code",
          "checksum": "eda0089b075505a6fb0e8afff8270a3c",
          "grade": false,
          "grade_id": "cell-1e04534d4ac370af",
          "locked": false,
          "schema_version": 3,
          "solution": true,
          "task": false
        },
        "id": "gy9GLSdxWtp1"
      },
      "outputs": [],
      "source": [
        "clf2 = LogisticRegression(multi_class='multinomial', solver='lbfgs', max_iter=3000)\n"
      ]
    },
    {
      "cell_type": "code",
      "execution_count": 16,
      "metadata": {
        "deletable": false,
        "nbgrader": {
          "cell_type": "code",
          "checksum": "79fc97f4910a0f81ef591a9122172984",
          "grade": false,
          "grade_id": "cell-8a86e9c0d7ca69e1",
          "locked": false,
          "schema_version": 3,
          "solution": true,
          "task": false
        },
        "id": "wfZAVoNDWtp2"
      },
      "outputs": [],
      "source": [
        "clf2.fit(X_train, y_train)\n",
        "y_pred2 = clf2.predict(X_test)\n"
      ]
    },
    {
      "cell_type": "code",
      "execution_count": 17,
      "metadata": {
        "deletable": false,
        "editable": false,
        "nbgrader": {
          "cell_type": "code",
          "checksum": "4d5441872837cbc03f6777e995308202",
          "grade": false,
          "grade_id": "cell-dfbacb7e86686bd0",
          "locked": true,
          "schema_version": 3,
          "solution": false,
          "task": false
        },
        "colab": {
          "base_uri": "https://localhost:8080/"
        },
        "id": "DDZic-lzWtp3",
        "outputId": "750e7a15-6dee-4590-fa46-e987c528c1cc"
      },
      "outputs": [
        {
          "output_type": "stream",
          "name": "stdout",
          "text": [
            "logreg_accuracy_score: 0.9722222222222222\n",
            "logreg_precision_score: 0.9703866461078403\n",
            "logreg_recall_score: 0.9703844174770208\n",
            "logreg_f1_score: 0.9700298998661353\n"
          ]
        }
      ],
      "source": [
        "logreg_accuracy_score = accuracy_score(y_test, y_pred2)\n",
        "logreg_precision_score = precision_score(y_test, y_pred2, average='macro')\n",
        "logreg_recall_score = recall_score(y_test, y_pred2, average='macro')\n",
        "logreg_f1_score = f1_score(y_test, y_pred2, average='macro')\n",
        "\n",
        "\n",
        "print(f\"logreg_accuracy_score: {logreg_accuracy_score}\")\n",
        "print(f\"logreg_precision_score: {logreg_precision_score}\")\n",
        "print(f\"logreg_recall_score: {logreg_recall_score}\")\n",
        "print(f\"logreg_f1_score: {logreg_f1_score}\")"
      ]
    },
    {
      "cell_type": "code",
      "execution_count": 18,
      "metadata": {
        "deletable": false,
        "editable": false,
        "nbgrader": {
          "cell_type": "code",
          "checksum": "cec7fab2ae9132b343e52fc7fb543aa6",
          "grade": true,
          "grade_id": "cell-4bf5a928f823246c",
          "locked": true,
          "points": 1,
          "schema_version": 3,
          "solution": false,
          "task": false
        },
        "id": "MXUNiqBgWtp3"
      },
      "outputs": [],
      "source": [
        "assert logreg_accuracy_score > 0.95\n",
        "assert logreg_precision_score > 0.95\n",
        "assert logreg_recall_score > 0.95\n",
        "assert logreg_f1_score > 0.95"
      ]
    },
    {
      "cell_type": "markdown",
      "metadata": {
        "deletable": false,
        "editable": false,
        "nbgrader": {
          "cell_type": "markdown",
          "checksum": "ca182372a2cb09037c69961091b41d58",
          "grade": false,
          "grade_id": "cell-9b505f84068dc582",
          "locked": true,
          "schema_version": 3,
          "solution": false,
          "task": false
        },
        "id": "AGg6KgtxWtp4"
      },
      "source": [
        "## Multiclass classification with the SRM (SVC) model using the \"one-vs-one\" strategy"
      ]
    },
    {
      "cell_type": "code",
      "execution_count": 19,
      "metadata": {
        "deletable": false,
        "editable": false,
        "nbgrader": {
          "cell_type": "code",
          "checksum": "06530817550a0b55a566aa4e058505e4",
          "grade": false,
          "grade_id": "cell-f12b1ef5bad0273c",
          "locked": true,
          "schema_version": 3,
          "solution": false,
          "task": false
        },
        "id": "spnBYSwKWtp5"
      },
      "outputs": [],
      "source": [
        "from sklearn.svm import SVC\n"
      ]
    },
    {
      "cell_type": "markdown",
      "metadata": {
        "deletable": false,
        "editable": false,
        "nbgrader": {
          "cell_type": "markdown",
          "checksum": "b67907852f7a819492533dcfc2928176",
          "grade": false,
          "grade_id": "cell-fc2fc164f41557cc",
          "locked": true,
          "schema_version": 3,
          "solution": false,
          "task": false
        },
        "id": "Z-Yz9ydgWtp5"
      },
      "source": [
        "In SVM (Support Vector Machine), the kernel parameter defines the kernel used to calculate distances between points in the feature space. \"rbf\" is one of the most common kernels and means using the Radial Basis Function as the core. It allows you to model nonlinear dependencies between features and adapts flexibly enough to various forms of data.\n",
        "\n",
        "The decision_function_shape parameter defines the form of the function for solving a multiclass classification problem. \"ovo\" (one-vs-one) means that for each pair of classes, a binary classifier is built that separates objects from these two classes. Then, to determine the class of the new object, the model uses voting on all constructed binary classifiers. Another option is \"ovr\" (one-vs-rest), in which a binary classifier is built for each class, which separates this class from all others. The class of a new object is determined by selecting the classifier that gave the highest value of the decisive function for this object."
      ]
    },
    {
      "cell_type": "code",
      "execution_count": 20,
      "metadata": {
        "deletable": false,
        "nbgrader": {
          "cell_type": "code",
          "checksum": "22980e4e2fee07677ecb56f98677cff8",
          "grade": false,
          "grade_id": "cell-f5503de568b2ed82",
          "locked": false,
          "schema_version": 3,
          "solution": true,
          "task": false
        },
        "id": "Jm27U7ucWtp6"
      },
      "outputs": [],
      "source": [
        "clf3 = SVC(kernel='rbf', decision_function_shape=\"ovo\")\n"
      ]
    },
    {
      "cell_type": "code",
      "execution_count": 21,
      "metadata": {
        "deletable": false,
        "nbgrader": {
          "cell_type": "code",
          "checksum": "dbb78d7c32399e6b5e6a9e8aca69f0ff",
          "grade": false,
          "grade_id": "cell-4aa981aa2991bea1",
          "locked": false,
          "schema_version": 3,
          "solution": true,
          "task": false
        },
        "id": "xFACMJ9UWtp7"
      },
      "outputs": [],
      "source": [
        "clf3.fit(X_train, y_train)\n",
        "y_pred3 = clf3.predict(X_test)\n"
      ]
    },
    {
      "cell_type": "code",
      "execution_count": 22,
      "metadata": {
        "deletable": false,
        "editable": false,
        "nbgrader": {
          "cell_type": "code",
          "checksum": "d65327c08a4f69f03c3d1e87961040a4",
          "grade": false,
          "grade_id": "cell-e5b452af3b6e6108",
          "locked": true,
          "schema_version": 3,
          "solution": false,
          "task": false
        },
        "colab": {
          "base_uri": "https://localhost:8080/"
        },
        "id": "gtKSUjHXWtp8",
        "outputId": "0b85195a-47cd-43d1-eaa6-5eb3b942b769"
      },
      "outputs": [
        {
          "output_type": "stream",
          "name": "stdout",
          "text": [
            "svm_accuracy_score: 0.9916666666666667\n",
            "svm_precision_score: 0.9910599078341015\n",
            "svm_recall_score: 0.9909078449646401\n",
            "svm_f1_score: 0.9908885806721376\n"
          ]
        }
      ],
      "source": [
        "svm_accuracy_score = accuracy_score(y_test, y_pred3)\n",
        "svm_precision_score = precision_score(y_test, y_pred3, average='macro')\n",
        "svm_recall_score = recall_score(y_test, y_pred3, average='macro')\n",
        "svm_f1_score = f1_score(y_test, y_pred3, average='macro')\n",
        "\n",
        "print(f\"svm_accuracy_score: {svm_accuracy_score}\")\n",
        "print(f\"svm_precision_score: {svm_precision_score}\")\n",
        "print(f\"svm_recall_score: {svm_recall_score}\")\n",
        "print(f\"svm_f1_score: {svm_f1_score}\")"
      ]
    },
    {
      "cell_type": "code",
      "execution_count": 23,
      "metadata": {
        "deletable": false,
        "editable": false,
        "nbgrader": {
          "cell_type": "code",
          "checksum": "6267a2e6d5b8d73153bfc44f18ce3179",
          "grade": true,
          "grade_id": "cell-3a9e751ac92cff7b",
          "locked": true,
          "points": 1,
          "schema_version": 3,
          "solution": false,
          "task": false
        },
        "id": "XLk_yZVcWtp8"
      },
      "outputs": [],
      "source": [
        "assert svm_accuracy_score > 0.95\n",
        "assert svm_precision_score > 0.95\n",
        "assert svm_recall_score > 0.95\n",
        "assert svm_f1_score > 0.95"
      ]
    },
    {
      "cell_type": "code",
      "source": [],
      "metadata": {
        "id": "veK6lWyIfRNz"
      },
      "execution_count": null,
      "outputs": []
    }
  ],
  "metadata": {
    "kernelspec": {
      "display_name": "Python 3 (ipykernel)",
      "language": "python",
      "name": "python3"
    },
    "language_info": {
      "codemirror_mode": {
        "name": "ipython",
        "version": 3
      },
      "file_extension": ".py",
      "mimetype": "text/x-python",
      "name": "python",
      "nbconvert_exporter": "python",
      "pygments_lexer": "ipython3",
      "version": "3.11.2"
    },
    "colab": {
      "provenance": []
    }
  },
  "nbformat": 4,
  "nbformat_minor": 0
}